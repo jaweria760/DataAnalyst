{
 "cells": [
  {
   "cell_type": "markdown",
   "id": "7b8a364a-a2df-4d33-824d-aa441999ed97",
   "metadata": {},
   "source": [
    "# FUNNEL ANALYSIS"
   ]
  },
  {
   "cell_type": "code",
   "execution_count": 6,
   "id": "46371ced-4908-49e7-90e6-7b97ad33b097",
   "metadata": {},
   "outputs": [],
   "source": [
    "import numpy as np\n",
    "import pandas as pd\n",
    "import os\n",
    "from datetime import datetime, timedelta\n",
    "import calendar"
   ]
  },
  {
   "cell_type": "code",
   "execution_count": 14,
   "id": "a065e6f8-689b-4ed7-8cd3-42050cfcc2a2",
   "metadata": {},
   "outputs": [],
   "source": [
    "from google.analytics.data_v1beta import FilterExpression\n",
    "from google.analytics.data_v1beta import BetaAnalyticsDataClient\n",
    "from google.analytics.data_v1beta.types import (\n",
    "    DateRange,\n",
    "    Dimension,\n",
    "    Metric,\n",
    "    RunReportRequest,\n",
    "    OrderBy,\n",
    "    FilterExpression,\n",
    "     FilterExpressionList,\n",
    "     Filter,\n",
    ")"
   ]
  },
  {
   "cell_type": "code",
   "execution_count": 8,
   "id": "33a9d6b0-7d43-4842-840e-6b5bd97cd628",
   "metadata": {},
   "outputs": [],
   "source": [
    "## Set up global variables\n",
    "\n",
    "os.environ[\"GOOGLE_APPLICATION_CREDENTIALS\"] = 'service_account.json'\n",
    "property_id = '468166589'\n",
    "\n",
    "client = BetaAnalyticsDataClient()"
   ]
  },
  {
   "cell_type": "code",
   "execution_count": 32,
   "id": "98d43426-8060-4c86-90f6-10260961842f",
   "metadata": {},
   "outputs": [],
   "source": [
    "# Create multiple filters for each event name\n",
    "event_filters = [\n",
    "    Filter(\n",
    "        field_name=\"eventName\",\n",
    "        string_filter=Filter.StringFilter(\n",
    "            match_type=Filter.StringFilter.MatchType.EXACT,  # Ensure exact matches\n",
    "            value=event  \n",
    "        )\n",
    "    ) for event in [\"session_start\", \"home_screen\", \"quran_start_screen\", \"ad_impression\", \"quran_surah_screen\"]\n",
    "]\n",
    "\n",
    "# Combine them using OR logic\n",
    "dimension_filter = FilterExpression(\n",
    "    or_group=FilterExpressionList(expressions=[FilterExpression(filter=f) for f in event_filters])\n",
    ")\n",
    "\n",
    "\n",
    "request = RunReportRequest(\n",
    "        property='properties/'+property_id,\n",
    "        dimensions=[Dimension(name=\"eventName\"), ],\n",
    "        metrics=[Metric(name=\"eventCount\")],\n",
    "        date_ranges=[DateRange(start_date=\"2025-01-01\", end_date=\"today\")],\n",
    "    \n",
    "    dimension_filter= dimension_filter\n",
    "    )\n",
    "\n",
    "# Fetch the response\n",
    "response = client.run_report(request)\n"
   ]
  },
  {
   "cell_type": "code",
   "execution_count": 33,
   "id": "d72e8e8c-9d9a-47ac-956b-2bbd94fb6fb6",
   "metadata": {},
   "outputs": [
    {
     "data": {
      "text/html": [
       "<div>\n",
       "<style scoped>\n",
       "    .dataframe tbody tr th:only-of-type {\n",
       "        vertical-align: middle;\n",
       "    }\n",
       "\n",
       "    .dataframe tbody tr th {\n",
       "        vertical-align: top;\n",
       "    }\n",
       "\n",
       "    .dataframe thead th {\n",
       "        text-align: right;\n",
       "    }\n",
       "</style>\n",
       "<table border=\"1\" class=\"dataframe\">\n",
       "  <thead>\n",
       "    <tr style=\"text-align: right;\">\n",
       "      <th></th>\n",
       "      <th>event</th>\n",
       "      <th>count</th>\n",
       "    </tr>\n",
       "  </thead>\n",
       "  <tbody>\n",
       "    <tr>\n",
       "      <th>0</th>\n",
       "      <td>session_start</td>\n",
       "      <td>59573</td>\n",
       "    </tr>\n",
       "    <tr>\n",
       "      <th>1</th>\n",
       "      <td>home_screen</td>\n",
       "      <td>56072</td>\n",
       "    </tr>\n",
       "    <tr>\n",
       "      <th>2</th>\n",
       "      <td>ad_impression</td>\n",
       "      <td>31302</td>\n",
       "    </tr>\n",
       "    <tr>\n",
       "      <th>3</th>\n",
       "      <td>quran_surah_screen</td>\n",
       "      <td>27871</td>\n",
       "    </tr>\n",
       "    <tr>\n",
       "      <th>4</th>\n",
       "      <td>quran_start_screen</td>\n",
       "      <td>26634</td>\n",
       "    </tr>\n",
       "  </tbody>\n",
       "</table>\n",
       "</div>"
      ],
      "text/plain": [
       "                event  count\n",
       "0       session_start  59573\n",
       "1         home_screen  56072\n",
       "2       ad_impression  31302\n",
       "3  quran_surah_screen  27871\n",
       "4  quran_start_screen  26634"
      ]
     },
     "execution_count": 33,
     "metadata": {},
     "output_type": "execute_result"
    }
   ],
   "source": [
    "\n",
    "# Convert response to DataFrame\n",
    "data = []\n",
    "for row in response.rows:\n",
    "    data.append([row.dimension_values[0].value, int(row.metric_values[0].value)])\n",
    "\n",
    "df = pd.DataFrame(data, columns=[\"event\", \"count\"])\n",
    "df"
   ]
  },
  {
   "cell_type": "code",
   "execution_count": 40,
   "id": "57048d60-9a94-415d-9016-18dae1e133e6",
   "metadata": {},
   "outputs": [
    {
     "data": {
      "text/html": [
       "<div>\n",
       "<style scoped>\n",
       "    .dataframe tbody tr th:only-of-type {\n",
       "        vertical-align: middle;\n",
       "    }\n",
       "\n",
       "    .dataframe tbody tr th {\n",
       "        vertical-align: top;\n",
       "    }\n",
       "\n",
       "    .dataframe thead th {\n",
       "        text-align: right;\n",
       "    }\n",
       "</style>\n",
       "<table border=\"1\" class=\"dataframe\">\n",
       "  <thead>\n",
       "    <tr style=\"text-align: right;\">\n",
       "      <th></th>\n",
       "      <th>event</th>\n",
       "      <th>count</th>\n",
       "      <th>dropoff</th>\n",
       "      <th>dropoff_percent</th>\n",
       "    </tr>\n",
       "  </thead>\n",
       "  <tbody>\n",
       "    <tr>\n",
       "      <th>0</th>\n",
       "      <td>session_start</td>\n",
       "      <td>59573</td>\n",
       "      <td>3501.0</td>\n",
       "      <td>5.88%</td>\n",
       "    </tr>\n",
       "    <tr>\n",
       "      <th>1</th>\n",
       "      <td>home_screen</td>\n",
       "      <td>56072</td>\n",
       "      <td>24770.0</td>\n",
       "      <td>44.18%</td>\n",
       "    </tr>\n",
       "    <tr>\n",
       "      <th>2</th>\n",
       "      <td>ad_impression</td>\n",
       "      <td>31302</td>\n",
       "      <td>3431.0</td>\n",
       "      <td>10.96%</td>\n",
       "    </tr>\n",
       "    <tr>\n",
       "      <th>3</th>\n",
       "      <td>quran_surah_screen</td>\n",
       "      <td>27871</td>\n",
       "      <td>1237.0</td>\n",
       "      <td>4.44%</td>\n",
       "    </tr>\n",
       "    <tr>\n",
       "      <th>4</th>\n",
       "      <td>quran_start_screen</td>\n",
       "      <td>26634</td>\n",
       "      <td>0.0</td>\n",
       "      <td>0.00%</td>\n",
       "    </tr>\n",
       "  </tbody>\n",
       "</table>\n",
       "</div>"
      ],
      "text/plain": [
       "                event  count  dropoff dropoff_percent\n",
       "0       session_start  59573   3501.0           5.88%\n",
       "1         home_screen  56072  24770.0          44.18%\n",
       "2       ad_impression  31302   3431.0          10.96%\n",
       "3  quran_surah_screen  27871   1237.0           4.44%\n",
       "4  quran_start_screen  26634      0.0           0.00%"
      ]
     },
     "execution_count": 40,
     "metadata": {},
     "output_type": "execute_result"
    }
   ],
   "source": [
    "# Ensure data is sorted in the correct funnel order\n",
    "funnel_order = [\"session_start\", \"home_screen\", \"ad_impression\" , \"quran_surah_screen\", \"quran_start_screen\"]\n",
    "df = df.set_index(\"event\").reindex(funnel_order).reset_index()\n",
    "\n",
    "# Calculate drop-off rates\n",
    "df[\"dropoff\"] = df[\"count\"].diff(-1).abs()  # Users lost at each step\n",
    "df[\"dropoff_percent\"] = df[\"dropoff_percent\"].map(lambda x: f\"{x:.2f}%\")\n",
    "\n",
    "df.fillna(0, inplace=True)  # Replace NaN values with 0\n",
    "df\n"
   ]
  },
  {
   "cell_type": "code",
   "execution_count": 60,
   "id": "caa3c06d-2220-412f-b948-f9413ffc96d1",
   "metadata": {},
   "outputs": [
    {
     "data": {
      "image/png": "[encoded data removed]",
      "text/plain": [
       "<Figure size 600x600 with 1 Axes>"
      ]
     },
     "metadata": {},
     "output_type": "display_data"
    }
   ],
   "source": [
    "import matplotlib.pyplot as plt\n",
    "\n",
    "# Define funnel stage names and values\n",
    "stages = df[\"event\"]\n",
    "values = df[\"count\"]\n",
    "\n",
    "# Plot funnel\n",
    "plt.figure(figsize=(6, 6))\n",
    "plt.barh(stages[::-1], values[::-1], color=['chocolate', 'steelblue', 'seagreen', 'indigo', 'orchid'])\n",
    "\n",
    "# Add text labels\n",
    "for index, value in enumerate(values[::-1]):\n",
    "    plt.text(value - (value * 0.5), index, f\"{value:,}\", va=\"center\", fontsize=12, color=\"white\")\n",
    "\n",
    "plt.xlabel(\"Users\")\n",
    "plt.ylabel(\"Funnel Stage\")\n",
    "plt.title(\"User Drop-off Funnel\")\n",
    "plt.show()\n"
   ]
  },
  {
   "cell_type": "code",
   "execution_count": null,
   "id": "88e8a401-88fc-454e-9885-fc3e69bc20e9",
   "metadata": {},
   "outputs": [],
   "source": []
  }
 ],
 "metadata": {
  "kernelspec": {
   "display_name": "Python (islamic-env)",
   "language": "python",
   "name": "islamic-env"
  },
  "language_info": {
   "codemirror_mode": {
    "name": "ipython",
    "version": 3
   },
   "file_extension": ".py",
   "mimetype": "text/x-python",
   "name": "python",
   "nbconvert_exporter": "python",
   "pygments_lexer": "ipython3",
   "version": "3.10.16"
  }
 },
 "nbformat": 4,
 "nbformat_minor": 5
}

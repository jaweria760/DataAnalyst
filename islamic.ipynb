{
 "cells": [
  {
   "cell_type": "markdown",
   "id": "8bab9c9a-914f-49bb-826f-6a10aa350c5d",
   "metadata": {},
   "source": [
    "# CONNECTING GA4 TO PYTHON"
   ]
  },
  {
   "cell_type": "code",
   "execution_count": 1,
   "id": "0d42a25f-80c6-4497-a18d-73128cb89398",
   "metadata": {},
   "outputs": [],
   "source": [
    "import numpy as np\n",
    "import pandas as pd\n",
    "import os\n",
    "from datetime import datetime, timedelta"
   ]
  },
  {
   "cell_type": "code",
   "execution_count": 2,
   "id": "86767e02-b81a-4ffd-8d61-65f5e17b4941",
   "metadata": {},
   "outputs": [],
   "source": [
    "from google.analytics.data_v1beta import BetaAnalyticsDataClient\n",
    "from google.analytics.data_v1beta.types import (\n",
    "    DateRange,\n",
    "    Dimension,\n",
    "\n",
    "    Metric,\n",
    "    RunReportRequest,\n",
    "    OrderBy,\n",
    "    CohortSpec,\n",
    "    Cohort,\n",
    "    CohortsRange,\n",
    ")"
   ]
  },
  {
   "cell_type": "code",
   "execution_count": 3,
   "id": "1b4472c5-836a-42f2-879f-1e63ebf36a9b",
   "metadata": {},
   "outputs": [],
   "source": [
    "## Set up global variables\n",
    "\n",
    "os.environ[\"GOOGLE_APPLICATION_CREDENTIALS\"] = 'service_account.json'\n",
    "property_id = '468166589'\n",
    "\n",
    "client = BetaAnalyticsDataClient()\n"
   ]
  },
  {
   "cell_type": "code",
   "execution_count": 4,
   "id": "0339ce69-fcdb-4396-99cf-d6c31e45279f",
   "metadata": {},
   "outputs": [],
   "source": [
    "## Format Report - run_report method\n",
    "def format_report(request):\n",
    "    response = client.run_report(request)\n",
    "    \n",
    "    # Row index\n",
    "    row_index_names = [header.name for header in response.dimension_headers]\n",
    "    row_header = []\n",
    "    for i in range(len(row_index_names)):\n",
    "        row_header.append([row.dimension_values[i].value for row in response.rows])\n",
    "\n",
    "    row_index_named = pd.MultiIndex.from_arrays(np.array(row_header), names = np.array(row_index_names))\n",
    "    # Row flat data\n",
    "    metric_names = [header.name for header in response.metric_headers]\n",
    "    data_values = []\n",
    "    for i in range(len(metric_names)):\n",
    "        data_values.append([row.metric_values[i].value for row in response.rows])\n",
    "\n",
    "    output = pd.DataFrame(data = np.transpose(np.array(data_values, dtype = 'f')), \n",
    "                          index = row_index_named, columns = metric_names)\n",
    "    return output"
   ]
  },
  {
   "cell_type": "markdown",
   "id": "93582ce0-5869-411d-8d76-fc91a18d25c1",
   "metadata": {},
   "source": [
    "# Active users by Country"
   ]
  },
  {
   "cell_type": "code",
   "execution_count": 29,
   "id": "8450fc07-5919-4c5e-9708-58d619abc24d",
   "metadata": {
    "scrolled": true
   },
   "outputs": [],
   "source": [
    "today = datetime.today().strftime(\"%Y-%m-%d\")\n",
    "last_30_days = (datetime.today() - timedelta(days=30)).strftime(\"%Y-%m-%d\")\n",
    "request = RunReportRequest(\n",
    "        property='properties/'+property_id,\n",
    "        dimensions=[Dimension(name=\"country\"), ],\n",
    "        metrics=[Metric(name=\"activeUsers\")],\n",
    "        order_bys = [OrderBy(metric =OrderBy.MetricOrderBy(metric_name=\"activeUsers\"), desc=True),\n",
    "                    ],\n",
    "        date_ranges=[DateRange(start_date=last_30_days, end_date=\"today\")],\n",
    "    limit=10\n",
    "    )\n"
   ]
  },
  {
   "cell_type": "code",
   "execution_count": 26,
   "id": "67e67c87-48bf-418e-9506-383ce8cfd2da",
   "metadata": {},
   "outputs": [
    {
     "data": {
      "text/html": [
       "<div>\n",
       "<style scoped>\n",
       "    .dataframe tbody tr th:only-of-type {\n",
       "        vertical-align: middle;\n",
       "    }\n",
       "\n",
       "    .dataframe tbody tr th {\n",
       "        vertical-align: top;\n",
       "    }\n",
       "\n",
       "    .dataframe thead th {\n",
       "        text-align: right;\n",
       "    }\n",
       "</style>\n",
       "<table border=\"1\" class=\"dataframe\">\n",
       "  <thead>\n",
       "    <tr style=\"text-align: right;\">\n",
       "      <th></th>\n",
       "      <th>activeUsers</th>\n",
       "    </tr>\n",
       "    <tr>\n",
       "      <th>country</th>\n",
       "      <th></th>\n",
       "    </tr>\n",
       "  </thead>\n",
       "  <tbody>\n",
       "    <tr>\n",
       "      <th>Nigeria</th>\n",
       "      <td>1102.0</td>\n",
       "    </tr>\n",
       "    <tr>\n",
       "      <th>Egypt</th>\n",
       "      <td>1093.0</td>\n",
       "    </tr>\n",
       "    <tr>\n",
       "      <th>Sudan</th>\n",
       "      <td>973.0</td>\n",
       "    </tr>\n",
       "    <tr>\n",
       "      <th>Bangladesh</th>\n",
       "      <td>854.0</td>\n",
       "    </tr>\n",
       "    <tr>\n",
       "      <th>Algeria</th>\n",
       "      <td>843.0</td>\n",
       "    </tr>\n",
       "    <tr>\n",
       "      <th>Yemen</th>\n",
       "      <td>812.0</td>\n",
       "    </tr>\n",
       "    <tr>\n",
       "      <th>Iraq</th>\n",
       "      <td>739.0</td>\n",
       "    </tr>\n",
       "    <tr>\n",
       "      <th>Ethiopia</th>\n",
       "      <td>684.0</td>\n",
       "    </tr>\n",
       "    <tr>\n",
       "      <th>Pakistan</th>\n",
       "      <td>660.0</td>\n",
       "    </tr>\n",
       "    <tr>\n",
       "      <th>Iran</th>\n",
       "      <td>608.0</td>\n",
       "    </tr>\n",
       "  </tbody>\n",
       "</table>\n",
       "</div>"
      ],
      "text/plain": [
       "            activeUsers\n",
       "country                \n",
       "Nigeria          1102.0\n",
       "Egypt            1093.0\n",
       "Sudan             973.0\n",
       "Bangladesh        854.0\n",
       "Algeria           843.0\n",
       "Yemen             812.0\n",
       "Iraq              739.0\n",
       "Ethiopia          684.0\n",
       "Pakistan          660.0\n",
       "Iran              608.0"
      ]
     },
     "execution_count": 26,
     "metadata": {},
     "output_type": "execute_result"
    }
   ],
   "source": [
    " format_report(request)"
   ]
  },
  {
   "cell_type": "markdown",
   "id": "4013a04f-a239-41e8-9559-b07fada04522",
   "metadata": {},
   "source": [
    "# campaign overview"
   ]
  },
  {
   "cell_type": "code",
   "execution_count": 5,
   "id": "be96334a-b5ee-4533-8e49-8af94d59136c",
   "metadata": {},
   "outputs": [],
   "source": [
    "request = RunReportRequest(\n",
    "        property='properties/'+property_id,\n",
    "        dimensions=[Dimension(name=\"campaignName\")],\n",
    "        metrics=[Metric(name=\"advertiserAdCost\"),\n",
    "                Metric(name=\"returnOnAdSpend\"),\n",
    "                Metric(name=\"totalRevenue\")],\n",
    "        order_bys = [OrderBy(metric =OrderBy.MetricOrderBy(metric_name=\"totalRevenue\"), desc=True)],\n",
    "        date_ranges=[DateRange(start_date=\"2022-06-01\", end_date=\"today\")],\n",
    "    \n",
    "    )"
   ]
  },
  {
   "cell_type": "code",
   "execution_count": 6,
   "id": "b0218d33-c228-4aad-b025-bdc187d04ff5",
   "metadata": {},
   "outputs": [
    {
     "data": {
      "text/html": [
       "<div>\n",
       "<style scoped>\n",
       "    .dataframe tbody tr th:only-of-type {\n",
       "        vertical-align: middle;\n",
       "    }\n",
       "\n",
       "    .dataframe tbody tr th {\n",
       "        vertical-align: top;\n",
       "    }\n",
       "\n",
       "    .dataframe thead th {\n",
       "        text-align: right;\n",
       "    }\n",
       "</style>\n",
       "<table border=\"1\" class=\"dataframe\">\n",
       "  <thead>\n",
       "    <tr style=\"text-align: right;\">\n",
       "      <th></th>\n",
       "      <th>advertiserAdCost</th>\n",
       "      <th>returnOnAdSpend</th>\n",
       "      <th>totalRevenue</th>\n",
       "    </tr>\n",
       "    <tr>\n",
       "      <th>campaignName</th>\n",
       "      <th></th>\n",
       "      <th></th>\n",
       "      <th></th>\n",
       "    </tr>\n",
       "  </thead>\n",
       "  <tbody>\n",
       "    <tr>\n",
       "      <th>Quran - Mashal Soft - Hybrid #2</th>\n",
       "      <td>653.014587</td>\n",
       "      <td>0.497699</td>\n",
       "      <td>325.004669</td>\n",
       "    </tr>\n",
       "    <tr>\n",
       "      <th>(not set)</th>\n",
       "      <td>0.000000</td>\n",
       "      <td>0.000000</td>\n",
       "      <td>47.861771</td>\n",
       "    </tr>\n",
       "    <tr>\n",
       "      <th>Quran - Mashal Soft - Hybrid</th>\n",
       "      <td>249.150925</td>\n",
       "      <td>0.180700</td>\n",
       "      <td>45.021530</td>\n",
       "    </tr>\n",
       "    <tr>\n",
       "      <th>AL Quran - Mashal Soft - Hybrid</th>\n",
       "      <td>559.958923</td>\n",
       "      <td>0.040656</td>\n",
       "      <td>22.765596</td>\n",
       "    </tr>\n",
       "    <tr>\n",
       "      <th>Quran app Mashal Soft -All - ACI</th>\n",
       "      <td>142.916382</td>\n",
       "      <td>0.131907</td>\n",
       "      <td>18.851629</td>\n",
       "    </tr>\n",
       "    <tr>\n",
       "      <th>...</th>\n",
       "      <td>...</td>\n",
       "      <td>...</td>\n",
       "      <td>...</td>\n",
       "    </tr>\n",
       "    <tr>\n",
       "      <th>HS - GPS Navigation - India - 25-april-24</th>\n",
       "      <td>1.575182</td>\n",
       "      <td>0.000000</td>\n",
       "      <td>0.000000</td>\n",
       "    </tr>\n",
       "    <tr>\n",
       "      <th>HS - Live Satellite - tROAS - Brazil</th>\n",
       "      <td>1.370000</td>\n",
       "      <td>0.000000</td>\n",
       "      <td>0.000000</td>\n",
       "    </tr>\n",
       "    <tr>\n",
       "      <th>Sky - Recover Deleted Messages - CPI 3 Target</th>\n",
       "      <td>0.835068</td>\n",
       "      <td>0.000000</td>\n",
       "      <td>0.000000</td>\n",
       "    </tr>\n",
       "    <tr>\n",
       "      <th>MobileApp - Photo Touch - US HYBRID 75 (5-8-24))</th>\n",
       "      <td>0.440000</td>\n",
       "      <td>0.000000</td>\n",
       "      <td>0.000000</td>\n",
       "    </tr>\n",
       "    <tr>\n",
       "      <th>MobileApp - Photo Touch - Russia</th>\n",
       "      <td>0.070000</td>\n",
       "      <td>0.000000</td>\n",
       "      <td>0.000000</td>\n",
       "    </tr>\n",
       "  </tbody>\n",
       "</table>\n",
       "<p>718 rows × 3 columns</p>\n",
       "</div>"
      ],
      "text/plain": [
       "                                                  advertiserAdCost  \\\n",
       "campaignName                                                         \n",
       "Quran - Mashal Soft - Hybrid #2                         653.014587   \n",
       "(not set)                                                 0.000000   \n",
       "Quran - Mashal Soft - Hybrid                            249.150925   \n",
       "AL Quran - Mashal Soft - Hybrid                         559.958923   \n",
       "Quran app Mashal Soft -All - ACI                        142.916382   \n",
       "...                                                            ...   \n",
       "HS - GPS Navigation - India - 25-april-24                 1.575182   \n",
       "HS - Live Satellite - tROAS - Brazil                      1.370000   \n",
       "Sky - Recover Deleted Messages - CPI 3 Target             0.835068   \n",
       "MobileApp - Photo Touch - US HYBRID 75 (5-8-24))          0.440000   \n",
       "MobileApp - Photo Touch - Russia                          0.070000   \n",
       "\n",
       "                                                  returnOnAdSpend  \\\n",
       "campaignName                                                        \n",
       "Quran - Mashal Soft - Hybrid #2                          0.497699   \n",
       "(not set)                                                0.000000   \n",
       "Quran - Mashal Soft - Hybrid                             0.180700   \n",
       "AL Quran - Mashal Soft - Hybrid                          0.040656   \n",
       "Quran app Mashal Soft -All - ACI                         0.131907   \n",
       "...                                                           ...   \n",
       "HS - GPS Navigation - India - 25-april-24                0.000000   \n",
       "HS - Live Satellite - tROAS - Brazil                     0.000000   \n",
       "Sky - Recover Deleted Messages - CPI 3 Target            0.000000   \n",
       "MobileApp - Photo Touch - US HYBRID 75 (5-8-24))         0.000000   \n",
       "MobileApp - Photo Touch - Russia                         0.000000   \n",
       "\n",
       "                                                  totalRevenue  \n",
       "campaignName                                                    \n",
       "Quran - Mashal Soft - Hybrid #2                     325.004669  \n",
       "(not set)                                            47.861771  \n",
       "Quran - Mashal Soft - Hybrid                         45.021530  \n",
       "AL Quran - Mashal Soft - Hybrid                      22.765596  \n",
       "Quran app Mashal Soft -All - ACI                     18.851629  \n",
       "...                                                        ...  \n",
       "HS - GPS Navigation - India - 25-april-24             0.000000  \n",
       "HS - Live Satellite - tROAS - Brazil                  0.000000  \n",
       "Sky - Recover Deleted Messages - CPI 3 Target         0.000000  \n",
       "MobileApp - Photo Touch - US HYBRID 75 (5-8-24))      0.000000  \n",
       "MobileApp - Photo Touch - Russia                      0.000000  \n",
       "\n",
       "[718 rows x 3 columns]"
      ]
     },
     "execution_count": 6,
     "metadata": {},
     "output_type": "execute_result"
    }
   ],
   "source": [
    " format_report(request)"
   ]
  },
  {
   "cell_type": "markdown",
   "id": "48292deb-61d3-464d-8d1f-896a59924b46",
   "metadata": {},
   "source": [
    "# Top Traffic Sources"
   ]
  },
  {
   "cell_type": "code",
   "execution_count": 28,
   "id": "5edc0860-c759-4c84-8d0f-307af12004e0",
   "metadata": {},
   "outputs": [],
   "source": [
    "request = RunReportRequest(\n",
    "        property='properties/'+property_id,\n",
    "        dimensions=[Dimension(name=\"firstUserPrimaryChannelGroup\")],\n",
    "        metrics=[Metric(name=\"sessions\"),\n",
    "                Metric(name=\"totalUsers\")],\n",
    "        order_bys = [OrderBy(metric =OrderBy.MetricOrderBy(metric_name=\"totalUsers\"), desc=True)],\n",
    "        date_ranges=[DateRange(start_date=\"2022-06-01\", end_date=\"today\")],\n",
    "    \n",
    "    )\n"
   ]
  },
  {
   "cell_type": "code",
   "execution_count": 24,
   "id": "a0c9f52e-990c-4a61-aa0d-c53318852c11",
   "metadata": {},
   "outputs": [
    {
     "data": {
      "text/html": [
       "<div>\n",
       "<style scoped>\n",
       "    .dataframe tbody tr th:only-of-type {\n",
       "        vertical-align: middle;\n",
       "    }\n",
       "\n",
       "    .dataframe tbody tr th {\n",
       "        vertical-align: top;\n",
       "    }\n",
       "\n",
       "    .dataframe thead th {\n",
       "        text-align: right;\n",
       "    }\n",
       "</style>\n",
       "<table border=\"1\" class=\"dataframe\">\n",
       "  <thead>\n",
       "    <tr style=\"text-align: right;\">\n",
       "      <th></th>\n",
       "      <th>sessions</th>\n",
       "      <th>totalUsers</th>\n",
       "    </tr>\n",
       "    <tr>\n",
       "      <th>firstUserPrimaryChannelGroup</th>\n",
       "      <th></th>\n",
       "      <th></th>\n",
       "    </tr>\n",
       "  </thead>\n",
       "  <tbody>\n",
       "    <tr>\n",
       "      <th>Cross-network</th>\n",
       "      <td>76606.0</td>\n",
       "      <td>31468.0</td>\n",
       "    </tr>\n",
       "    <tr>\n",
       "      <th>Direct</th>\n",
       "      <td>11400.0</td>\n",
       "      <td>3578.0</td>\n",
       "    </tr>\n",
       "    <tr>\n",
       "      <th>Paid Search</th>\n",
       "      <td>11061.0</td>\n",
       "      <td>3442.0</td>\n",
       "    </tr>\n",
       "    <tr>\n",
       "      <th>Organic Search</th>\n",
       "      <td>8659.0</td>\n",
       "      <td>2710.0</td>\n",
       "    </tr>\n",
       "    <tr>\n",
       "      <th>Unassigned</th>\n",
       "      <td>19.0</td>\n",
       "      <td>20.0</td>\n",
       "    </tr>\n",
       "  </tbody>\n",
       "</table>\n",
       "</div>"
      ],
      "text/plain": [
       "                              sessions  totalUsers\n",
       "firstUserPrimaryChannelGroup                      \n",
       "Cross-network                  76606.0     31468.0\n",
       "Direct                         11400.0      3578.0\n",
       "Paid Search                    11061.0      3442.0\n",
       "Organic Search                  8659.0      2710.0\n",
       "Unassigned                        19.0        20.0"
      ]
     },
     "execution_count": 24,
     "metadata": {},
     "output_type": "execute_result"
    }
   ],
   "source": [
    " format_report(request)"
   ]
  },
  {
   "cell_type": "markdown",
   "id": "57ee01ad-c2cc-40bf-9c25-2480ea26ba4e",
   "metadata": {},
   "source": [
    "# Weekly New User Trend"
   ]
  },
  {
   "cell_type": "code",
   "execution_count": 11,
   "id": "3a2646c1-57dd-4a1b-b173-46d5255a28f9",
   "metadata": {},
   "outputs": [],
   "source": [
    "\n",
    "request = RunReportRequest(\n",
    "        property='properties/'+property_id,\n",
    "        dimensions=[Dimension(name=\"week\")],\n",
    "        metrics=[Metric(name=\"newUsers\")],\n",
    "        order_bys = [OrderBy(dimension =OrderBy.DimensionOrderBy(dimension_name=\"week\"))],\n",
    "        date_ranges=[DateRange(start_date=\"2025-01-01\" , end_date=\"today\")],\n",
    "    \n",
    "    )\n",
    "\n"
   ]
  },
  {
   "cell_type": "code",
   "execution_count": 13,
   "id": "67b02123-21d4-4bec-b04c-f0f07b692596",
   "metadata": {},
   "outputs": [
    {
     "data": {
      "text/html": [
       "<div>\n",
       "<style scoped>\n",
       "    .dataframe tbody tr th:only-of-type {\n",
       "        vertical-align: middle;\n",
       "    }\n",
       "\n",
       "    .dataframe tbody tr th {\n",
       "        vertical-align: top;\n",
       "    }\n",
       "\n",
       "    .dataframe thead th {\n",
       "        text-align: right;\n",
       "    }\n",
       "</style>\n",
       "<table border=\"1\" class=\"dataframe\">\n",
       "  <thead>\n",
       "    <tr style=\"text-align: right;\">\n",
       "      <th></th>\n",
       "      <th>newUsers</th>\n",
       "    </tr>\n",
       "    <tr>\n",
       "      <th>week</th>\n",
       "      <th></th>\n",
       "    </tr>\n",
       "  </thead>\n",
       "  <tbody>\n",
       "    <tr>\n",
       "      <th>01</th>\n",
       "      <td>1794.0</td>\n",
       "    </tr>\n",
       "    <tr>\n",
       "      <th>02</th>\n",
       "      <td>3441.0</td>\n",
       "    </tr>\n",
       "    <tr>\n",
       "      <th>03</th>\n",
       "      <td>3252.0</td>\n",
       "    </tr>\n",
       "    <tr>\n",
       "      <th>04</th>\n",
       "      <td>2190.0</td>\n",
       "    </tr>\n",
       "    <tr>\n",
       "      <th>05</th>\n",
       "      <td>4365.0</td>\n",
       "    </tr>\n",
       "    <tr>\n",
       "      <th>06</th>\n",
       "      <td>3628.0</td>\n",
       "    </tr>\n",
       "    <tr>\n",
       "      <th>07</th>\n",
       "      <td>2330.0</td>\n",
       "    </tr>\n",
       "  </tbody>\n",
       "</table>\n",
       "</div>"
      ],
      "text/plain": [
       "      newUsers\n",
       "week          \n",
       "01      1794.0\n",
       "02      3441.0\n",
       "03      3252.0\n",
       "04      2190.0\n",
       "05      4365.0\n",
       "06      3628.0\n",
       "07      2330.0"
      ]
     },
     "execution_count": 13,
     "metadata": {},
     "output_type": "execute_result"
    }
   ],
   "source": [
    "df= format_report(request)\n",
    "df\n"
   ]
  },
  {
   "cell_type": "markdown",
   "id": "e0255d42-9b22-445a-ab1d-4d7cd5583820",
   "metadata": {},
   "source": [
    "# Line Chart (New Users Over Time (Weekly))"
   ]
  },
  {
   "cell_type": "code",
   "execution_count": 5,
   "id": "8cb72c30-3038-4598-a02b-cfc870249f04",
   "metadata": {},
   "outputs": [],
   "source": [
    "import matplotlib.pyplot as plt\n",
    "import seaborn as sns"
   ]
  },
  {
   "cell_type": "code",
   "execution_count": 9,
   "id": "3edbe1ec-1a01-4cd3-948d-8777b80a8c9a",
   "metadata": {},
   "outputs": [
    {
     "data": {
      "image/png": "[encoded data removed]",
      "text/plain": [
       "<Figure size 1000x500 with 1 Axes>"
      ]
     },
     "metadata": {},
     "output_type": "display_data"
    }
   ],
   "source": [
    "# Reset index to use \"week\" as a column\n",
    "df = df.reset_index()\n",
    "\n",
    "\n",
    "# Convert \"week\" to integer for proper sorting\n",
    "df[\"week\"] = df[\"week\"].astype(int)\n",
    "\n",
    "# Sort values by \"week\" to ensure correct order\n",
    "df = df.sort_values(by=\"week\")\n",
    "\n",
    "# Plot using Seaborn\n",
    "plt.figure(figsize=(10, 5))\n",
    "sns.lineplot(x=\"week\", y=\"newUsers\", data=df, marker=\"o\", linestyle=\"-\", color=\"b\")\n",
    "\n",
    "# Add labels and title\n",
    "plt.xlabel(\"Week\")\n",
    "plt.ylabel(\"New Users\")\n",
    "plt.title(\"New Users Over Time (Weekly)\")\n",
    "plt.grid(True)\n",
    "\n",
    "# ✅ Save the plot BEFORE showing it\n",
    "plot_filename = \"new_users_plot.png\"\n",
    "plt.savefig(plot_filename, dpi=300, bbox_inches=\"tight\")\n",
    "\n",
    "# Show the plot\n",
    "plt.show()\n",
    "\n"
   ]
  },
  {
   "cell_type": "markdown",
   "id": "c7e91451-1ba6-426c-99e2-22312411fac2",
   "metadata": {},
   "source": [
    "# saving plot and table in excel file"
   ]
  },
  {
   "cell_type": "code",
   "execution_count": 10,
   "id": "c85fca8c-3879-420c-a086-1e3a9a2a410c",
   "metadata": {},
   "outputs": [
    {
     "name": "stdout",
     "output_type": "stream",
     "text": [
      "Excel file 'GA4_New_Users_Report.xlsx' saved successfully with data & plot!\n"
     ]
    }
   ],
   "source": [
    "\n",
    "# Save table and plot into an Excel file\n",
    "excel_filename = \"GA4_New_Users_Report.xlsx\"\n",
    "with pd.ExcelWriter(excel_filename, engine=\"xlsxwriter\") as writer:\n",
    "    df.to_excel(writer, sheet_name=\"New Users Data\", index=False)  # Save table\n",
    "    worksheet = writer.sheets[\"New Users Data\"]\n",
    "\n",
    "    # Insert the plot into Excel\n",
    "    worksheet.insert_image(\"D2\", plot_filename)\n",
    "\n",
    "print(f\"Excel file '{excel_filename}' saved successfully with data & plot!\")"
   ]
  },
  {
   "cell_type": "markdown",
   "id": "10d488e0-02b1-4d73-8909-63ba846f9c49",
   "metadata": {},
   "source": [
    "# Retention Cohort Report"
   ]
  },
  {
   "cell_type": "code",
   "execution_count": 84,
   "id": "e03dfab4-5b5d-400a-b4fb-f2d0641475aa",
   "metadata": {},
   "outputs": [],
   "source": [
    "# Define cohort start date\n",
    "start_date = datetime(2025, 1, 1)  # First cohort starts Jan 1, 2025\n",
    "num_weeks = 6  # Number of weekly cohorts\n",
    "\n",
    "# Generate weekly cohorts dynamically\n",
    "cohorts = []\n",
    "for i in range(num_weeks):\n",
    "    cohort_start = start_date + timedelta(weeks=i)\n",
    "    cohort_end = cohort_start + timedelta(days=6)  # One full week\n",
    "    cohorts.append(\n",
    "        Cohort(\n",
    "            name=f\"Cohort_{i+1}\",  # Name cohort as Cohort_1, Cohort_2, ...\n",
    "            dimension=\"firstSessionDate\",\n",
    "            date_range=DateRange(start_date=cohort_start.strftime(\"%Y-%m-%d\"), \n",
    "                                 end_date=cohort_end.strftime(\"%Y-%m-%d\"))\n",
    "        )\n",
    "    )\n",
    "\n",
    "# Define the cohort specification\n",
    "cohort_spec = CohortSpec(\n",
    "    cohorts=cohorts,\n",
    "    cohorts_range=CohortsRange(granularity=\"WEEKLY\", start_offset=0, end_offset=6)  # Retention over 6 weeks\n",
    ")\n",
    "\n",
    "\n",
    "# Define the request\n",
    "request = RunReportRequest(\n",
    "        property='properties/'+property_id,\n",
    "    dimensions=[\n",
    "        Dimension(name=\"cohort\"),         # Weekly cohort grouping\n",
    "        Dimension(name=\"cohortNthWeek\")   # Number of weeks since first session\n",
    "    ],\n",
    "    metrics=[Metric(name=\"cohortActiveUsers\")],  # Retained active users per week\n",
    "    order_bys=[OrderBy(dimension=OrderBy.DimensionOrderBy(dimension_name=\"cohort\"))],\n",
    "    cohort_spec=cohort_spec\n",
    ")\n",
    "\n",
    "# Fetch the response\n",
    "response = client.run_report(request)"
   ]
  },
  {
   "cell_type": "code",
   "execution_count": 85,
   "id": "5116c522-bfe9-4db6-ab9b-76698334f863",
   "metadata": {},
   "outputs": [
    {
     "name": "stdout",
     "output_type": "stream",
     "text": [
      "week         0    1    2    3    4    5   6\n",
      "cohort                                     \n",
      "Cohort_1  3345  525  295  228  226  151  57\n",
      "Cohort_2  3345  526  329  250  221   75   0\n",
      "Cohort_3  2786  410  297  208   72    0   0\n",
      "Cohort_4  2666  491  260   71    0    0   0\n",
      "Cohort_5  5085  753  228    0    0    0   0\n",
      "Cohort_6  3030  261    0    0    0    0   0\n"
     ]
    }
   ],
   "source": [
    "\n",
    "# Process response into a DataFrame\n",
    "data = []\n",
    "for row in response.rows:\n",
    "    cohort_label = row.dimension_values[0].value  # Weekly cohort label (Week_1, Week_2, etc.)\n",
    "    week_number = int(row.dimension_values[1].value)  # Week since signup\n",
    "    active_users = int(row.metric_values[0].value)  # Active users retained\n",
    "\n",
    "    data.append([cohort_label, week_number, active_users])\n",
    "\n",
    "# Create a DataFrame\n",
    "df = pd.DataFrame(data, columns=[\"cohort\", \"week\", \"active_users\"])\n",
    "\n",
    "# Ensure unique (cohort, week) combinations by aggregating\n",
    "df_grouped = df.groupby([\"cohort\", \"week\"], as_index=False).sum()\n",
    "\n",
    "# Pivot the table to format it as a retention table\n",
    "df_pivot = df_grouped.pivot(index=\"cohort\", columns=\"week\", values=\"active_users\").fillna(0).astype(int)\n",
    "\n",
    "# Print the final cohort retention table\n",
    "print(df_pivot)"
   ]
  },
  {
   "cell_type": "code",
   "execution_count": 90,
   "id": "a8d1258a-4e15-49fa-a159-6005bea79804",
   "metadata": {},
   "outputs": [
    {
     "data": {
      "image/png": "[encoded data removed]",
      "text/plain": [
       "<Figure size 1000x600 with 2 Axes>"
      ]
     },
     "metadata": {},
     "output_type": "display_data"
    }
   ],
   "source": [
    "\n",
    "# Set the figure size\n",
    "plt.figure(figsize=(10, 6))\n",
    "\n",
    "# Create a heatmap\n",
    "sns.heatmap(df_pivot, annot=True, fmt=\"d\", cmap=\"Blues\", linewidths=0.5)\n",
    "\n",
    "# Labels and title\n",
    "plt.title(\"Cohort Retention Heatmap\")\n",
    "plt.xlabel(\"Weeks Since Signup\")\n",
    "plt.ylabel(\"Cohort (Signup Week)\")\n",
    "\n",
    "# ✅ Save the plot BEFORE showing it\n",
    "plot_file = \"Cohort_retention_heatmap.png\"\n",
    "plt.savefig(plot_filename, dpi=300, bbox_inches=\"tight\")\n",
    "# Show the plot\n",
    "plt.show()\n"
   ]
  },
  {
   "cell_type": "code",
   "execution_count": 96,
   "id": "58e306b4-ed1f-4b15-bf76-8c52f55fdd86",
   "metadata": {},
   "outputs": [
    {
     "name": "stdout",
     "output_type": "stream",
     "text": [
      "Excel file 'GA4_Cohort_retention_Report.xlsx' saved successfully with data & plot!\n"
     ]
    }
   ],
   "source": [
    "# Save table and plot into an Excel file\n",
    "excel_file = \"GA4_Cohort_retention_Report.xlsx\"\n",
    "with pd.ExcelWriter(excel_file, engine=\"xlsxwriter\") as writer:\n",
    "    df.to_excel(writer, sheet_name=\"Cohort Retention Report\", index=False)  # Save table\n",
    "    worksheet = writer.sheets[\"Cohort Retention Report\"]\n",
    "\n",
    "    # Insert the plot into Excel\n",
    "    worksheet.insert_image(\"D2\", plot_file)\n",
    "\n",
    "print(f\"Excel file '{excel_file}' saved successfully with data & plot!\")\n"
   ]
  },
  {
   "cell_type": "markdown",
   "id": "60e04cf7-d4c5-48a4-bba7-b475f1ab7376",
   "metadata": {},
   "source": [
    "# Monthly Active Users by Session Medium Pivot Table"
   ]
  },
  {
   "cell_type": "code",
   "execution_count": 6,
   "id": "6a7b9b2a-2e52-4d0b-b990-38b6cc9a4d89",
   "metadata": {},
   "outputs": [],
   "source": [
    "request = RunReportRequest(\n",
    "        property='properties/'+property_id,\n",
    "    dimensions=[\n",
    "        Dimension(name=\"sessionMedium\"),         \n",
    "        Dimension(name=\"yearMonth\")   \n",
    "    ],\n",
    "    metrics=[Metric(name=\"activeUsers\")],  \n",
    "    order_bys=[OrderBy(dimension=OrderBy.DimensionOrderBy(dimension_name=\"yearMonth\"))],\n",
    "    date_ranges=[DateRange(start_date=\"2024-06-01\" , end_date=\"2025-02-01\")]\n",
    ")\n",
    "\n",
    "# Fetch the response\n",
    "response = client.run_report(request)"
   ]
  },
  {
   "cell_type": "code",
   "execution_count": 8,
   "id": "90f7dc17-382e-4a38-b4d3-234b31269060",
   "metadata": {},
   "outputs": [
    {
     "data": {
      "text/html": [
       "<div>\n",
       "<style scoped>\n",
       "    .dataframe tbody tr th:only-of-type {\n",
       "        vertical-align: middle;\n",
       "    }\n",
       "\n",
       "    .dataframe tbody tr th {\n",
       "        vertical-align: top;\n",
       "    }\n",
       "\n",
       "    .dataframe thead th {\n",
       "        text-align: right;\n",
       "    }\n",
       "</style>\n",
       "<table border=\"1\" class=\"dataframe\">\n",
       "  <thead>\n",
       "    <tr style=\"text-align: right;\">\n",
       "      <th>yearMonth</th>\n",
       "      <th>202411</th>\n",
       "      <th>202412</th>\n",
       "      <th>202501</th>\n",
       "      <th>202502</th>\n",
       "    </tr>\n",
       "    <tr>\n",
       "      <th>sessionMedium</th>\n",
       "      <th></th>\n",
       "      <th></th>\n",
       "      <th></th>\n",
       "      <th></th>\n",
       "    </tr>\n",
       "  </thead>\n",
       "  <tbody>\n",
       "    <tr>\n",
       "      <th>(none)</th>\n",
       "      <td>168</td>\n",
       "      <td>756</td>\n",
       "      <td>659</td>\n",
       "      <td>41</td>\n",
       "    </tr>\n",
       "    <tr>\n",
       "      <th>(not set)</th>\n",
       "      <td>319</td>\n",
       "      <td>979</td>\n",
       "      <td>740</td>\n",
       "      <td>32</td>\n",
       "    </tr>\n",
       "    <tr>\n",
       "      <th>cpc</th>\n",
       "      <td>1902</td>\n",
       "      <td>17044</td>\n",
       "      <td>16897</td>\n",
       "      <td>1267</td>\n",
       "    </tr>\n",
       "    <tr>\n",
       "      <th>organic</th>\n",
       "      <td>56</td>\n",
       "      <td>1290</td>\n",
       "      <td>1419</td>\n",
       "      <td>87</td>\n",
       "    </tr>\n",
       "  </tbody>\n",
       "</table>\n",
       "</div>"
      ],
      "text/plain": [
       "yearMonth      202411  202412  202501  202502\n",
       "sessionMedium                                \n",
       "(none)            168     756     659      41\n",
       "(not set)         319     979     740      32\n",
       "cpc              1902   17044   16897    1267\n",
       "organic            56    1290    1419      87"
      ]
     },
     "execution_count": 8,
     "metadata": {},
     "output_type": "execute_result"
    }
   ],
   "source": [
    "data = []\n",
    "for row in response.rows:\n",
    "    session_medium = row.dimension_values[0].value  # \"sessionMedium\"\n",
    "    year_month = row.dimension_values[1].value      # \"yearMonth\"\n",
    "    active_users = int(row.metric_values[0].value)  # \"activeUsers\"\n",
    "    \n",
    "    data.append([session_medium, year_month, active_users])\n",
    "\n",
    "# Create DataFrame\n",
    "df = pd.DataFrame(data, columns=[\"sessionMedium\", \"yearMonth\", \"activeUsers\"])\n",
    "\n",
    "\n",
    "df_pivot = pd.pivot_table(\n",
    "    df,\n",
    "    values=\"activeUsers\",\n",
    "    index=\"sessionMedium\",\n",
    "    columns=\"yearMonth\",\n",
    "    aggfunc=\"sum\",\n",
    "    fill_value=0  # Replace NaN with 0 for missing values\n",
    ")\n",
    "df_pivot"
   ]
  },
  {
   "cell_type": "markdown",
   "id": "ca6951d7-b04b-42e0-9d31-210cc5d2e7e1",
   "metadata": {},
   "source": [
    "# Compare last two Month's Performance"
   ]
  },
  {
   "cell_type": "code",
   "execution_count": 117,
   "id": "44d7fb6d-7926-4aa7-b5c3-8026d5a9ff4f",
   "metadata": {},
   "outputs": [],
   "source": [
    "request = RunReportRequest(\n",
    "        property='properties/'+property_id,\n",
    "    dimensions=[        \n",
    "        Dimension(name=\"yearMonth\")   \n",
    "    ],\n",
    "    metrics=[Metric(name=\"activeUsers\"),\n",
    "            Metric(name=\"sessions\"),\n",
    "            Metric(name=\"newUsers\"),\n",
    "            Metric(name=\"bounceRate\"),\n",
    "            Metric(name=\"eventCount\")],  \n",
    "    order_bys=[OrderBy(dimension=OrderBy.DimensionOrderBy(dimension_name=\"yearMonth\"))],\n",
    "    date_ranges=[DateRange(start_date=\"2024-12-01\" , end_date=\"2025-01-31\")]\n",
    ")\n",
    "\n",
    "# Fetch the response\n",
    "response = client.run_report(request)"
   ]
  },
  {
   "cell_type": "code",
   "execution_count": 118,
   "id": "3bd25c87-8685-45f9-9d91-51f00df5449c",
   "metadata": {},
   "outputs": [
    {
     "name": "stdout",
     "output_type": "stream",
     "text": [
      "   yearMonth  activeUsers  sessions  newusers  bouncerate  eventcount\n",
      "0 2024-12-01        18997     45427     17619    0.135492     1042710\n",
      "1 2025-01-01        18954     40037     14288    0.165172     1070485\n"
     ]
    }
   ],
   "source": [
    "data = []\n",
    "for row in response.rows:\n",
    "    year_month = row.dimension_values[0].value   # \"yearMonth\" (e.g., \"202401\")\n",
    "    active_users = int(row.metric_values[0].value)   # \"activeUsers\"\n",
    "    sessions = int(row.metric_values[1].value)       # \"sessions\"\n",
    "    newusers = int(row.metric_values[2].value)   \n",
    "    bouncerate = float(row.metric_values[3].value) \n",
    "    eventcount = int(row.metric_values[4].value) \n",
    "\n",
    "    data.append([year_month, active_users, sessions, newusers, bouncerate, eventcount])\n",
    "\n",
    "# Create DataFrame\n",
    "df = pd.DataFrame(data, columns=[\"yearMonth\", \"activeUsers\", \"sessions\", \"newusers\", \"bouncerate\", \"eventcount\"])\n",
    "\n",
    "# Convert \"yearMonth\" to datetime for sorting\n",
    "df[\"yearMonth\"] = pd.to_datetime(df[\"yearMonth\"], format=\"%Y%m\")\n",
    "\n",
    "\n",
    "print(df)"
   ]
  },
  {
   "cell_type": "code",
   "execution_count": null,
   "id": "729c760f-92ad-4c88-9c11-3d5f8f456882",
   "metadata": {},
   "outputs": [],
   "source": []
  }
 ],
 "metadata": {
  "kernelspec": {
   "display_name": "Python (islamic-env)",
   "language": "python",
   "name": "islamic-env"
  },
  "language_info": {
   "codemirror_mode": {
    "name": "ipython",
    "version": 3
   },
   "file_extension": ".py",
   "mimetype": "text/x-python",
   "name": "python",
   "nbconvert_exporter": "python",
   "pygments_lexer": "ipython3",
   "version": "3.10.16"
  }
 },
 "nbformat": 4,
 "nbformat_minor": 5
}

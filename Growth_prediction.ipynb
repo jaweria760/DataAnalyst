{
 "cells": [
  {
   "cell_type": "markdown",
   "id": "8214f105-8dc0-4113-9e0d-f9be10b01e3f",
   "metadata": {},
   "source": [
    "# ACTIVE USER GROWTH PREDICTION"
   ]
  },
  {
   "cell_type": "code",
   "execution_count": 2,
   "id": "2be464de-7d67-4e30-910b-882390982a83",
   "metadata": {},
   "outputs": [],
   "source": [
    "import numpy as np\n",
    "import pandas as pd\n",
    "import os\n",
    "from datetime import datetime, timedelta\n",
    "import calendar"
   ]
  },
  {
   "cell_type": "code",
   "execution_count": 3,
   "id": "4cdde509-736e-4604-a95f-8161ad17e5c0",
   "metadata": {},
   "outputs": [],
   "source": [
    "from google.analytics.data_v1beta import BetaAnalyticsDataClient\n",
    "from google.analytics.data_v1beta.types import (\n",
    "    DateRange,\n",
    "    Dimension,\n",
    "    Metric,\n",
    "    RunReportRequest,\n",
    "    OrderBy,\n",
    "    CohortSpec,\n",
    "    Cohort,\n",
    "    CohortsRange,\n",
    ")"
   ]
  },
  {
   "cell_type": "code",
   "execution_count": 4,
   "id": "696e58ce-f8f3-4b9a-9b2f-72b45839d81d",
   "metadata": {},
   "outputs": [],
   "source": [
    "## Set up global variables\n",
    "\n",
    "os.environ[\"GOOGLE_APPLICATION_CREDENTIALS\"] = 'service_account.json'\n",
    "property_id = '468166589'\n",
    "\n",
    "client = BetaAnalyticsDataClient()"
   ]
  },
  {
   "cell_type": "code",
   "execution_count": 11,
   "id": "fb322464-d1bc-43b2-a7b4-b45d8ab3ac2d",
   "metadata": {},
   "outputs": [],
   "source": [
    "request = RunReportRequest(\n",
    "        property='properties/'+property_id,\n",
    "        dimensions=[Dimension(name=\"yearMonth\"), ],\n",
    "        metrics=[Metric(name=\"activeUsers\")],\n",
    "        date_ranges=[DateRange(start_date=\"2024-12-01\", end_date=\"2025-01-31\")],\n",
    "    )\n",
    "\n",
    "# Fetch the response\n",
    "response = client.run_report(request)"
   ]
  },
  {
   "cell_type": "code",
   "execution_count": 12,
   "id": "99c60939-6969-49e1-bd9c-60b856561a47",
   "metadata": {},
   "outputs": [
    {
     "data": {
      "text/html": [
       "<div>\n",
       "<style scoped>\n",
       "    .dataframe tbody tr th:only-of-type {\n",
       "        vertical-align: middle;\n",
       "    }\n",
       "\n",
       "    .dataframe tbody tr th {\n",
       "        vertical-align: top;\n",
       "    }\n",
       "\n",
       "    .dataframe thead th {\n",
       "        text-align: right;\n",
       "    }\n",
       "</style>\n",
       "<table border=\"1\" class=\"dataframe\">\n",
       "  <thead>\n",
       "    <tr style=\"text-align: right;\">\n",
       "      <th></th>\n",
       "      <th>yearMonth</th>\n",
       "      <th>active_users</th>\n",
       "    </tr>\n",
       "  </thead>\n",
       "  <tbody>\n",
       "    <tr>\n",
       "      <th>0</th>\n",
       "      <td>202412</td>\n",
       "      <td>18997</td>\n",
       "    </tr>\n",
       "    <tr>\n",
       "      <th>1</th>\n",
       "      <td>202501</td>\n",
       "      <td>18954</td>\n",
       "    </tr>\n",
       "  </tbody>\n",
       "</table>\n",
       "</div>"
      ],
      "text/plain": [
       "  yearMonth  active_users\n",
       "0    202412         18997\n",
       "1    202501         18954"
      ]
     },
     "execution_count": 12,
     "metadata": {},
     "output_type": "execute_result"
    }
   ],
   "source": [
    "# Convert response to DataFrame\n",
    "data = []\n",
    "for row in response.rows:\n",
    "    data.append([row.dimension_values[0].value, int(row.metric_values[0].value)])\n",
    "\n",
    "df = pd.DataFrame(data, columns=[\"yearMonth\", \"active_users\"])\n",
    "df"
   ]
  },
  {
   "cell_type": "code",
   "execution_count": 13,
   "id": "0e8e89a2-0520-4db9-9f18-729bd48cf68b",
   "metadata": {},
   "outputs": [
    {
     "name": "stdout",
     "output_type": "stream",
     "text": [
      "Predicted Active Users for February 2025: 18953\n"
     ]
    }
   ],
   "source": [
    "import matplotlib.pyplot as plt\n",
    "from sklearn.model_selection import train_test_split\n",
    "from sklearn.linear_model import LinearRegression\n",
    "\n",
    "# Convert yearMonth to integer\n",
    "df[\"yearMonth\"] = df[\"yearMonth\"].astype(int)\n",
    "\n",
    "# Prepare features (X) and target variable (y)\n",
    "X = df[[\"yearMonth\"]].values.reshape(-1, 1)  # Ensure X is in correct shape\n",
    "y = df[\"active_users\"]  # Target variable\n",
    "\n",
    "# Train Linear Regression model\n",
    "model = LinearRegression()\n",
    "model.fit(X, y)\n",
    "\n",
    "# Predict next month's users\n",
    "latest_month_num = df[\"yearMonth\"].max()  # Get the latest YYYYMM\n",
    "latest_year = latest_month_num // 100\n",
    "latest_month = latest_month_num % 100\n",
    "\n",
    "# Move to the next month\n",
    "if latest_month == 12:\n",
    "    next_year = latest_year + 1\n",
    "    next_month = 1\n",
    "else:\n",
    "    next_year = latest_year\n",
    "    next_month = latest_month + 1\n",
    "\n",
    "next_month_num = next_year * 100 + next_month  # Convert to YYYYMM format\n",
    "\n",
    "# Predict\n",
    "next_month_df = np.array([[next_month_num]])  # Ensure correct shape\n",
    "predicted_users = model.predict(next_month_df)\n",
    "\n",
    "# Print the prediction\n",
    "print(f\"Predicted Active Users for {calendar.month_name[next_month]} {next_year}: {int(predicted_users[0])}\")\n",
    "\n",
    "# Visualization"
   ]
  },
  {
   "cell_type": "code",
   "execution_count": 19,
   "id": "855a6061-01f6-4027-9078-237b53059f38",
   "metadata": {},
   "outputs": [],
   "source": [
    "#model.intercept_\n",
    "#model.coef_\n"
   ]
  },
  {
   "cell_type": "code",
   "execution_count": 14,
   "id": "aac0210a-5f71-4caf-8a95-c9e9e084940e",
   "metadata": {},
   "outputs": [
    {
     "data": {
      "image/png": "[encoded data removed]",
      "text/plain": [
       "<Figure size 640x480 with 1 Axes>"
      ]
     },
     "metadata": {},
     "output_type": "display_data"
    }
   ],
   "source": [
    "# Convert yearMonth to string for proper labeling\n",
    "df[\"yearMonth\"] = df[\"yearMonth\"].astype(str)\n",
    "next_month_num = str(next_month_num)\n",
    "\n",
    "# Visualization with fixed X-axis labels\n",
    "plt.scatter(df[\"yearMonth\"], df[\"active_users\"], color=\"blue\", label=\"Actual Data\")\n",
    "plt.plot(df[\"yearMonth\"], model.predict(X), color=\"red\", label=\"Prediction Line\")\n",
    "plt.scatter(next_month_num, predicted_users, color=\"green\", marker=\"o\", s=100, label=\"Prediction\")\n",
    "\n",
    "plt.xlabel(\"Month (YYYYMM)\")\n",
    "plt.ylabel(\"Active Users\")\n",
    "plt.title(\"Active User Growth Prediction\")\n",
    "plt.xticks(ticks=df[\"yearMonth\"].tolist() + [next_month_num], labels=df[\"yearMonth\"].tolist() + [next_month_num], rotation=45)\n",
    "plt.legend()\n",
    "plt.show()\n"
   ]
  },
  {
   "cell_type": "code",
   "execution_count": null,
   "id": "147a1300-d384-470b-86f7-b81d6169b715",
   "metadata": {},
   "outputs": [],
   "source": []
  }
 ],
 "metadata": {
  "kernelspec": {
   "display_name": "Python (islamic-env)",
   "language": "python",
   "name": "islamic-env"
  },
  "language_info": {
   "codemirror_mode": {
    "name": "ipython",
    "version": 3
   },
   "file_extension": ".py",
   "mimetype": "text/x-python",
   "name": "python",
   "nbconvert_exporter": "python",
   "pygments_lexer": "ipython3",
   "version": "3.10.16"
  }
 },
 "nbformat": 4,
 "nbformat_minor": 5
}
